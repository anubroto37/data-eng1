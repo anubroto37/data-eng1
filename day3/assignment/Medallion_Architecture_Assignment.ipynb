{
 "cells": [
  {
   "cell_type": "markdown",
   "id": "24687d99",
   "metadata": {},
   "source": [
    "\n",
    "### Assignment:\n",
    "Recreate the **Medallion Architecture (Bronze → Silver → Gold layers)** in **MySQL** using the same data, transformations, and logic previously implemented in **Spark SQL**. The original workflow included creating the Bronze, Silver, and Gold layers, followed by **Exploratory Data Analysis (EDA)** on the processed data.  \n"
   ]
  },
  {
   "cell_type": "markdown",
   "id": "62802d02",
   "metadata": {},
   "source": [
    "\n",
    "#### Tasks to be Completed  \n",
    "1. **Data Setup**  \n",
    "   - Load the original dataset into MySQL tables representing the **Bronze layer**.  \n",
    "\n",
    "2. **Data Transformation**  \n",
    "   - Apply transformations to create the **Silver layer**, cleaning and refining the data.  \n",
    "   - Generate the **Gold layer** with aggregated or final business-ready data.  \n",
    "\n",
    "3. **EDA in MySQL**  \n",
    "   - Run SQL queries to analyze the data at each layer, similar to the EDA performed in Spark SQL.  \n",
    "\n",
    "4. **Validation**  \n",
    "   - Ensure the output of each layer matches the logic and results from the original Spark SQL implementation.  \n"
   ]
  },
  {
   "cell_type": "markdown",
   "id": "705640ab",
   "metadata": {},
   "source": [
    "\n",
    "#### Deliverables  \n",
    "- **SQL Scripts:** For Bronze, Silver, Gold layers, and EDA queries.  \n",
    "- **Documentation:** A brief explanation of each step, transformation logic, and final observations.  \n"
   ]
  }
 ],
 "metadata": {
  "language_info": {
   "name": "python"
  }
 },
 "nbformat": 4,
 "nbformat_minor": 5
}
