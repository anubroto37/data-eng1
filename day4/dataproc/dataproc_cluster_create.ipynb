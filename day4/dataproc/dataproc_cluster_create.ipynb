{
 "cells": [
  {
   "cell_type": "markdown",
   "id": "16cd6479",
   "metadata": {},
   "source": [
    "\n",
    "# Create a Google Cloud Dataproc Cluster (Single-Node)\n",
    "\n",
    "## What is Dataproc?  \n",
    "Google Cloud Dataproc is a **managed Apache Spark and Hadoop service** that lets you run big data processing/analytics workloads on Google Cloud without having to install and maintain clusters yourself. Key benefits include:\n",
    "\n",
    "- **Managed control plane**: Google handles cluster provisioning, patching, and health.  \n",
    "- **Fast startup & elastic sizing**: Clusters typically start in minutes and can be resized to suit workload needs.  \n",
    "- **Tight GCP integration**: Native connectors for **Cloud Storage (GCS)**, **BigQuery**, **Vertex AI**, **Cloud Logging/Monitoring**, and **IAM**.  \n",
    "- **Component Gateway & Web UIs**: Easy access to UIs like Spark History Server, YARN, and optional **Jupyter** notebooks.  \n",
    "- **Cost control**: Use preemptible VMs or ephemeral clusters; shut down clusters when not in use.\n",
    "\n",
    "Use Dataproc when you want the flexibility of open‑source Spark/Hadoop tooling with the convenience and speed of a managed service on GCP.\n"
   ]
  },
  {
   "cell_type": "markdown",
   "id": "50161d86",
   "metadata": {},
   "source": [
    "\n",
    "## How this script works (step‑by‑step)\n",
    "\n",
    "1. **Set project & region**\n",
    "   ```bash\n",
    "   PROJECT_ID=pp-bigquery-03\n",
    "   REGION=us-central1\n",
    "   gcloud config set project $PROJECT_ID\n",
    "   ```\n",
    "   - Stores your Google Cloud project ID and region in variables and points `gcloud` to the correct project.\n",
    "\n",
    "2. **Resolve the default Compute Engine service account**\n",
    "   ```bash\n",
    "   PROJECT_NUMBER=$(gcloud projects describe $PROJECT_ID --format='value(projectNumber)')\n",
    "   COMPUTE_SA=\"${PROJECT_NUMBER}-compute@developer.gserviceaccount.com\"\n",
    "   ```\n",
    "   - Retrieves the numeric **project number** and constructs the default **Compute Engine service account** email used to run the cluster VMs.\n",
    "\n",
    "3. **Generate a safe cluster name**\n",
    "   ```bash\n",
    "   CLUSTER=\"learner-$(whoami | tr '[:upper:]' '[:lower:]' | tr -cd 'a-z0-9' | cut -c1-40)\"\n",
    "   ```\n",
    "   - Builds a lowercase, alphanumeric cluster name (prefix `learner-`) limited to 51 chars total, ensuring it’s valid for Dataproc.\n",
    "\n",
    "4. **Create a single‑node cluster**\n",
    "   ```bash\n",
    "   gcloud dataproc clusters create \"$CLUSTER\"      --region=\"$REGION\"      --single-node      --image-version=2.2-debian12      --enable-component-gateway      --optional-components=JUPYTER    \n",
    "   \n",
    "     --service-account=\"$COMPUTE_SA\"\n",
    "   ```\n",
    "   - **`--single-node`**: Creates one VM hosting master + worker\n",
    "   - **`--image-version=2.2-debian12`**: Chooses the Dataproc image with compatible Spark/Hadoop versions on Debian 12.  \n",
    "   - **`--enable-component-gateway`**: Exposes web UIs through a single gateway.  \n",
    "   - **`--optional-components=JUPYTER`**: Installs Jupyter so you can run notebooks directly on the cluster.  \n",
    "   - **`--service-account`**: Specifies the VM service account (permissions/IAM determine what the cluster can access).\n",
    "\n",
    "\n"
   ]
  },
  {
   "cell_type": "code",
   "execution_count": null,
   "id": "7120308e",
   "metadata": {
    "tags": [
     "shell-script"
    ]
   },
   "outputs": [],
   "source": [
    "# Set project & region\n",
    "PROJECT_ID=pp-bigquery-03\n",
    "REGION=us-central1\n",
    "gcloud config set project $PROJECT_ID\n",
    "\n",
    "# Default Compute Engine service account\n",
    "PROJECT_NUMBER=$(gcloud projects describe $PROJECT_ID --format='value(projectNumber)')\n",
    "COMPUTE_SA=\"${PROJECT_NUMBER}-compute@developer.gserviceaccount.com\"\n",
    "\n",
    "# Safe cluster name: lowercase, digits only (no underscores), <=51 chars\n",
    "CLUSTER=\"learner-$(whoami | tr '[:upper:]' '[:lower:]' | tr -cd 'a-z0-9' | cut -c1-40)\"\n",
    "\n",
    "# Create the cluster\n",
    "gcloud dataproc clusters create \"$CLUSTER\"   --region=\"$REGION\"   --single-node   --image-version=2.2-debian12   --enable-component-gateway   --optional-components=JUPYTER \n",
    "\n",
    "  --service-account=\"$COMPUTE_SA\"\n"
   ]
  }
 ],
 "metadata": {
  "kernelspec": {
   "display_name": "Python 3",
   "language": "python",
   "name": "python3"
  },
  "language_info": {
   "name": "python",
   "version": "3.x"
  }
 },
 "nbformat": 4,
 "nbformat_minor": 5
}
