{
 "cells": [
  {
   "cell_type": "markdown",
   "id": "17722fc1",
   "metadata": {},
   "source": [
    "# Run PySpark Notebooks in Docker\n",
    "\n",
    "## Pre-Requisites\n",
    "- **Docker Desktop** installed and running.\n",
    "\n",
    "## Problem Statement\n",
    "Launch a **PySpark** - enabled JupyterLab environment inside a Docker container and verify that Spark works. (Upload the retail dataset, execute  the Dataframe API and SparkSQL code on the retail data)."
   ]
  }
 ],
 "metadata": {
  "language_info": {
   "name": "python"
  }
 },
 "nbformat": 4,
 "nbformat_minor": 5
}
