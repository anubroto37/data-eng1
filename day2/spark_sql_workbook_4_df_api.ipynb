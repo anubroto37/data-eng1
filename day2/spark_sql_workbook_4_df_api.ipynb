{
  "nbformat": 4,
  "nbformat_minor": 5,
  "metadata": {
    "kernelspec": {
      "display_name": "Python 3",
      "language": "python",
      "name": "python3"
    },
    "language_info": {
      "name": "python",
      "version": "3.10"
    },
    "colab": {
      "provenance": []
    }
  },
  "cells": [
    {
      "id": "8f500f22",
      "cell_type": "code",
      "metadata": {
        "id": "8f500f22"
      },
      "execution_count": null,
      "source": [
        "from pyspark.sql import SparkSession\n",
        "from pyspark.sql import functions as F\n",
        "from pyspark.sql.types import StructType, StructField, IntegerType, StringType, DoubleType, TimestampType"
      ],
      "outputs": []
    },
    {
      "id": "3f7ff435",
      "cell_type": "code",
      "metadata": {
        "id": "3f7ff435"
      },
      "execution_count": null,
      "source": [
        "spark = SparkSession.builder.appName(\"Retail-Data-PySpark\").getOrCreate()\n",
        "INPUT_ROOT = \"/content\""
      ],
      "outputs": []
    },
    {
      "id": "a672a7d8",
      "cell_type": "code",
      "metadata": {
        "id": "a672a7d8"
      },
      "execution_count": null,
      "source": [
        "orders_schema = StructType([\n",
        "    StructField(\"order_id\", IntegerType(), True),\n",
        "    StructField(\"order_date\", TimestampType(), True),\n",
        "    StructField(\"order_customer_id\", IntegerType(), True),\n",
        "    StructField(\"order_status\", StringType(), True)\n",
        "])\n",
        "\n",
        "order_items_schema = StructType([\n",
        "    StructField(\"order_item_id\", IntegerType(), True),\n",
        "    StructField(\"order_item_order_id\", IntegerType(), True),\n",
        "    StructField(\"order_item_product_id\", IntegerType(), True),\n",
        "    StructField(\"order_item_quantity\", IntegerType(), True),\n",
        "    StructField(\"order_item_subtotal\", DoubleType(), True),\n",
        "    StructField(\"order_item_product_price\", DoubleType(), True)\n",
        "])\n",
        "\n",
        "customers_schema = StructType([\n",
        "    StructField(\"customer_id\", IntegerType(), True),\n",
        "    StructField(\"customer_fname\", StringType(), True),\n",
        "    StructField(\"customer_lname\", StringType(), True),\n",
        "    StructField(\"customer_email\", StringType(), True),\n",
        "    StructField(\"customer_password\", StringType(), True),\n",
        "    StructField(\"customer_street\", StringType(), True),\n",
        "    StructField(\"customer_city\", StringType(), True),\n",
        "    StructField(\"customer_state\", StringType(), True),\n",
        "    StructField(\"customer_zipcode\", StringType(), True)\n",
        "])\n",
        "\n",
        "categories_schema = StructType([\n",
        "    StructField(\"category_id\", IntegerType(), True),\n",
        "    StructField(\"category_department_id\", IntegerType(), True),\n",
        "    StructField(\"category_name\", StringType(), True)\n",
        "])\n",
        "\n",
        "products_schema = StructType([\n",
        "    StructField(\"product_id\", IntegerType(), True),\n",
        "    StructField(\"product_category_id\", IntegerType(), True),\n",
        "    StructField(\"product_name\", StringType(), True),\n",
        "    StructField(\"product_description\", StringType(), True),\n",
        "    StructField(\"product_price\", DoubleType(), True),\n",
        "    StructField(\"product_image\", StringType(), True)\n",
        "])\n",
        "\n",
        "departments_schema = StructType([\n",
        "    StructField(\"department_id\", IntegerType(), True),\n",
        "    StructField(\"department_name\", StringType(), True)\n",
        "])"
      ],
      "outputs": []
    },
    {
      "id": "40c61bf6",
      "cell_type": "code",
      "metadata": {
        "id": "40c61bf6"
      },
      "execution_count": null,
      "source": [
        "orders = spark.read.option(\"header\", False).schema(orders_schema).csv(f\"{INPUT_ROOT}/orders.csv\")\n",
        "order_items = spark.read.option(\"header\", False).schema(order_items_schema).csv(f\"{INPUT_ROOT}/order_items.csv\")\n",
        "customers = spark.read.option(\"header\", False).schema(customers_schema).csv(f\"{INPUT_ROOT}/customers.csv\")\n",
        "categories = spark.read.option(\"header\", False).schema(categories_schema).csv(f\"{INPUT_ROOT}/categories.csv\")\n",
        "products = spark.read.option(\"header\", False).schema(products_schema).csv(f\"{INPUT_ROOT}/products.csv\")\n",
        "departments = spark.read.option(\"header\", False).schema(departments_schema).csv(f\"{INPUT_ROOT}/departments.csv\")\n"
      ],
      "outputs": []
    },
    {
      "id": "ee68a3bd",
      "cell_type": "code",
      "metadata": {
        "id": "ee68a3bd"
      },
      "execution_count": null,
      "source": [
        "orders.createOrReplaceTempView(\"orders\")\n",
        "order_items.createOrReplaceTempView(\"order_items\")\n",
        "customers.createOrReplaceTempView(\"customers\")\n",
        "categories.createOrReplaceTempView(\"categories\")\n",
        "products.createOrReplaceTempView(\"products\")\n",
        "departments.createOrReplaceTempView(\"departments\")"
      ],
      "outputs": []
    },
    {
      "id": "65dd1489",
      "cell_type": "markdown",
      "source": [
        "# Retail SQL → Spark SQL Queries\n",
        "\n",
        "Each query is explained with a Markdown cell and executed in Spark SQL using `spark.sql()`."
      ],
      "metadata": {
        "id": "65dd1489"
      }
    },
    {
      "id": "01ef4feb",
      "cell_type": "markdown",
      "source": [
        "### Distinct order status\n",
        "Taking distinct order statuses from the orders table and sorting them."
      ],
      "metadata": {
        "id": "01ef4feb"
      }
    },
    {
      "id": "4a7d1494",
      "cell_type": "code",
      "metadata": {
        "id": "4a7d1494"
      },
      "execution_count": null,
      "source": [
        "orders.select('order_status').distinct().orderBy('order_status').show()"
      ],
      "outputs": []
    },
    {
      "id": "44aa0f8a",
      "cell_type": "markdown",
      "source": [
        "### Orders with COMPLETE status"
      ],
      "metadata": {
        "id": "44aa0f8a"
      }
    },
    {
      "id": "b96c012f",
      "cell_type": "code",
      "metadata": {
        "id": "b96c012f"
      },
      "execution_count": null,
      "source": [
        "orders.filter(F.col('order_status') == 'COMPLETE').show()"
      ],
      "outputs": []
    },
    {
      "id": "eac8a3ac",
      "cell_type": "markdown",
      "source": [
        "### Orders with CLOSED status"
      ],
      "metadata": {
        "id": "eac8a3ac"
      }
    },
    {
      "id": "c3c20181",
      "cell_type": "code",
      "metadata": {
        "id": "c3c20181"
      },
      "execution_count": null,
      "source": [
        "orders.filter(F.col('order_status') == 'CLOSED').show()"
      ],
      "outputs": []
    },
    {
      "id": "b4b2f84e",
      "cell_type": "markdown",
      "source": [
        "### Orders with CLOSED or COMPLETE status"
      ],
      "metadata": {
        "id": "b4b2f84e"
      }
    },
    {
      "id": "dedb4c4d",
      "cell_type": "code",
      "metadata": {
        "id": "dedb4c4d"
      },
      "execution_count": null,
      "source": [
        "orders.filter(F.col('order_status').isin('CLOSED','COMPLETE')).show()"
      ],
      "outputs": []
    },
    {
      "id": "989318eb",
      "cell_type": "markdown",
      "source": [
        "### Count of orders"
      ],
      "metadata": {
        "id": "989318eb"
      }
    },
    {
      "id": "c7455e42",
      "cell_type": "code",
      "metadata": {
        "id": "c7455e42"
      },
      "execution_count": null,
      "source": [
        "orders.agg(F.count('*').alias('order_count')).show()"
      ],
      "outputs": []
    },
    {
      "id": "a8fc63af",
      "cell_type": "markdown",
      "source": [
        "### Revenue per order"
      ],
      "metadata": {
        "id": "a8fc63af"
      }
    },
    {
      "id": "1b72a99a",
      "cell_type": "code",
      "metadata": {
        "id": "1b72a99a"
      },
      "execution_count": null,
      "source": [
        "(\n",
        "    order_items.groupBy('order_item_order_id')\n",
        "    .agg(F.round(F.sum('order_item_subtotal'), 2).alias('order_revenue'))\n",
        "    .orderBy('order_item_order_id')\n",
        ").show()"
      ],
      "outputs": []
    },
    {
      "id": "4fe45654",
      "cell_type": "markdown",
      "source": [
        "### Orders with revenue >=2000"
      ],
      "metadata": {
        "id": "4fe45654"
      }
    },
    {
      "id": "562417b7",
      "cell_type": "code",
      "metadata": {
        "id": "562417b7"
      },
      "execution_count": null,
      "source": [
        "(\n",
        "    order_items.groupBy('order_item_order_id')\n",
        "    .agg(F.round(F.sum('order_item_subtotal'), 2).alias('order_revenue'))\n",
        "    .orderBy('order_item_order_id')\n",
        ").show()"
      ],
      "outputs": []
    },
    {
      "id": "9bcfcdbe",
      "cell_type": "markdown",
      "source": [
        "### Inner Join Orders + Order Items"
      ],
      "metadata": {
        "id": "9bcfcdbe"
      }
    },
    {
      "id": "af9335d4",
      "cell_type": "code",
      "metadata": {
        "id": "af9335d4"
      },
      "execution_count": null,
      "source": [
        "(\n",
        "    orders.alias('o')\n",
        "    .join(order_items.alias('oi'), F.col('o.order_id') == F.col('oi.order_item_order_id'), 'inner')\n",
        "    .select('o.order_date', 'oi.order_item_product_id', 'oi.order_item_subtotal')\n",
        ").show()"
      ],
      "outputs": []
    },
    {
      "id": "cc110cec",
      "cell_type": "markdown",
      "source": [
        "### Left Outer Join Orders + Order Items"
      ],
      "metadata": {
        "id": "cc110cec"
      }
    },
    {
      "id": "8cf95a0c",
      "cell_type": "code",
      "metadata": {
        "id": "8cf95a0c"
      },
      "execution_count": null,
      "source": [
        "(\n",
        "    orders.alias('o')\n",
        "    .join(order_items.alias('oi'), F.col('o.order_id') == F.col('oi.order_item_order_id'), 'inner')\n",
        "    .select('o.order_id', 'o.order_date', 'oi.order_item_id', 'oi.order_item_product_id', 'oi.order_item_subtotal')\n",
        "    .orderBy('o.order_id')\n",
        ").show()"
      ],
      "outputs": []
    },
    {
      "id": "49cb5115",
      "cell_type": "code",
      "metadata": {
        "id": "49cb5115"
      },
      "execution_count": null,
      "source": [
        "daily_revenue = (\n",
        "    orders.alias('o')\n",
        "    .join(order_items.alias('oi'), F.col('o.order_id') == F.col('oi.order_item_order_id'), 'inner')\n",
        "    .filter(F.col('o.order_status').isin('COMPLETE','CLOSED'))\n",
        "    .groupBy(F.to_date('o.order_date').alias('order_date'))\n",
        "    .agg(F.round(F.sum('oi.order_item_subtotal'), 2).alias('order_revenue'))\n",
        ")\n",
        "daily_revenue.createOrReplaceTempView('daily_revenue')\n",
        "daily_revenue.orderBy('order_date').show()"
      ],
      "outputs": []
    },
    {
      "id": "9462a374",
      "cell_type": "markdown",
      "source": [
        "### Daily Product Revenue temp view"
      ],
      "metadata": {
        "id": "9462a374"
      }
    },
    {
      "id": "678a50f0",
      "cell_type": "code",
      "metadata": {
        "id": "678a50f0"
      },
      "execution_count": null,
      "source": [
        "from pyspark.sql.window import Window\n",
        "daily_product_revenue = (\n",
        "    orders.alias('o')\n",
        "    .join(order_items.alias('oi'), F.col('o.order_id') == F.col('oi.order_item_order_id'), 'inner')\n",
        "    .filter(F.col('o.order_status').isin('COMPLETE','CLOSED'))\n",
        "    .groupBy(F.to_date('o.order_date').alias('order_date'), F.col('oi.order_item_product_id'))\n",
        "    .agg(F.round(F.sum('oi.order_item_subtotal'), 2).alias('order_revenue'))\n",
        ")\n",
        "daily_product_revenue.createOrReplaceTempView('daily_product_revenue')\n",
        "\n",
        "w = Window.partitionBy('order_date').orderBy(F.col('order_revenue').desc())\n",
        "(\n",
        "    daily_product_revenue\n",
        "    .filter(F.date_format('order_date','yyyy-MM')=='2014-01')\n",
        "    .withColumn('rnk', F.rank().over(w))\n",
        "    .withColumn('drnk', F.dense_rank().over(w))\n",
        "    .filter(F.col('drnk') <= 5)\n",
        "    .orderBy('order_date', F.col('order_revenue').desc())\n",
        ").show()\n"
      ],
      "outputs": []
    }
  ]
}